{
  "nbformat": 4,
  "nbformat_minor": 0,
  "metadata": {
    "colab": {
      "provenance": []
    },
    "kernelspec": {
      "display_name": "Python 3",
      "language": "python",
      "name": "python3"
    },
    "language_info": {
      "codemirror_mode": {
        "name": "ipython",
        "version": 3
      },
      "file_extension": ".py",
      "mimetype": "text/x-python",
      "name": "python",
      "nbconvert_exporter": "python",
      "pygments_lexer": "ipython3",
      "version": "3.7.4"
    }
  },
  "cells": [
    {
      "cell_type": "markdown",
      "metadata": {
        "id": "_bphECiUa9zw"
      },
      "source": [
        "# Spam Detection"
      ]
    },
    {
      "cell_type": "markdown",
      "metadata": {
        "id": "rWiUqJJTa9z6"
      },
      "source": [
        "## Colab Link\n"
      ]
    },
    {
      "cell_type": "code",
      "metadata": {
        "id": "HgfNOUaPa9z8"
      },
      "source": [
        "import torch\n",
        "import torch.nn as nn\n",
        "import torch.nn.functional as F\n",
        "import torch.optim as optim\n",
        "import numpy as np\n",
        "\n",
        "import matplotlib.pyplot as plt"
      ],
      "execution_count": null,
      "outputs": []
    },
    {
      "cell_type": "markdown",
      "metadata": {
        "id": "M0jLI9LBa90C"
      },
      "source": [
        "## Part 1. Data Cleaning\n",
        "\n",
        "We will be using the \"SMS Spam Collection Data Set\" available at http://archive.ics.uci.edu/ml/datasets/SMS+Spam+Collection\n",
        "\n",
        "There is a link to download the \"Data Folder\" at the very top of the webpage. Download the zip file, unzip it, and upload the file `SMSSpamCollection` to Colab.    "
      ]
    },
    {
      "cell_type": "markdown",
      "metadata": {
        "id": "sSuF7C_Ga90E"
      },
      "source": [
        "### Part (a)\n",
        "\n",
        "Open up the file in Python, and print out one example of a spam SMS, and one example of a non-spam SMS.\n",
        "\n",
        "What is the label value for a spam message, and what is the label value for a non-spam message?"
      ]
    },
    {
      "cell_type": "code",
      "metadata": {
        "id": "GissUGugHfzf",
        "colab": {
          "base_uri": "https://localhost:8080/",
          "height": 34
        },
        "outputId": "ede1c537-d704-46d3-b0eb-3072b06206e2"
      },
      "source": [
        "from google.colab import drive\n",
        "drive.mount('/content/drive')"
      ],
      "execution_count": null,
      "outputs": [
        {
          "output_type": "stream",
          "text": [
            "Drive already mounted at /content/drive; to attempt to forcibly remount, call drive.mount(\"/content/drive\", force_remount=True).\n"
          ],
          "name": "stdout"
        }
      ]
    },
    {
      "cell_type": "code",
      "metadata": {
        "id": "hb5JyLmr7txP",
        "colab": {
          "base_uri": "https://localhost:8080/",
          "height": 411
        },
        "outputId": "1429070b-bef8-4a84-f6f8-05e76afde513"
      },
      "source": [
        "file_directory='/content/drive/My Drive/Colab Notebooks/APS360/Lab 5/smsspamcollection/SMSSpamCollection'\n",
        "\n",
        "my_file = open(file_directory, \"r\")\n",
        "\n",
        "count=0\n",
        "for i in my_file:\n",
        "  if count<=10:\n",
        "    print(i)\n",
        "    count+=1\n",
        "\n",
        "my_file.close()"
      ],
      "execution_count": null,
      "outputs": [
        {
          "output_type": "stream",
          "text": [
            "ham\tGo until jurong point, crazy.. Available only in bugis n great world la e buffet... Cine there got amore wat...\n",
            "\n",
            "ham\tOk lar... Joking wif u oni...\n",
            "\n",
            "spam\tFree entry in 2 a wkly comp to win FA Cup final tkts 21st May 2005. Text FA to 87121 to receive entry question(std txt rate)T&C's apply 08452810075over18's\n",
            "\n",
            "ham\tU dun say so early hor... U c already then say...\n",
            "\n",
            "ham\tNah I don't think he goes to usf, he lives around here though\n",
            "\n",
            "spam\tFreeMsg Hey there darling it's been 3 week's now and no word back! I'd like some fun you up for it still? Tb ok! XxX std chgs to send, £1.50 to rcv\n",
            "\n",
            "ham\tEven my brother is not like to speak with me. They treat me like aids patent.\n",
            "\n",
            "ham\tAs per your request 'Melle Melle (Oru Minnaminunginte Nurungu Vettam)' has been set as your callertune for all Callers. Press *9 to copy your friends Callertune\n",
            "\n",
            "spam\tWINNER!! As a valued network customer you have been selected to receivea £900 prize reward! To claim call 09061701461. Claim code KL341. Valid 12 hours only.\n",
            "\n",
            "spam\tHad your mobile 11 months or more? U R entitled to Update to the latest colour mobiles with camera for Free! Call The Mobile Update Co FREE on 08002986030\n",
            "\n",
            "ham\tI'm gonna be home soon and i don't want to talk about this stuff anymore tonight, k? I've cried enough today.\n",
            "\n"
          ],
          "name": "stdout"
        }
      ]
    },
    {
      "cell_type": "code",
      "metadata": {
        "id": "Q_MkJ65F8Gzv",
        "colab": {
          "base_uri": "https://localhost:8080/",
          "height": 71
        },
        "outputId": "f50e3b1e-c7f6-42e2-b677-b536a873b48c"
      },
      "source": [
        "#print out one example of a non-spam SMS:\n",
        "my_file = open(file_directory, \"r\")\n",
        "\n",
        "for i in my_file:\n",
        "  if i[0:3]=='ham':\n",
        "    print(i)\n",
        "    break\n",
        "\n",
        "my_file.close()"
      ],
      "execution_count": null,
      "outputs": [
        {
          "output_type": "stream",
          "text": [
            "ham\tGo until jurong point, crazy.. Available only in bugis n great world la e buffet... Cine there got amore wat...\n",
            "\n"
          ],
          "name": "stdout"
        }
      ]
    },
    {
      "cell_type": "code",
      "metadata": {
        "id": "EKjwcgCe8XJS",
        "colab": {
          "base_uri": "https://localhost:8080/",
          "height": 71
        },
        "outputId": "f472470c-b3c7-49c6-b570-8146009c032e"
      },
      "source": [
        "#print out one example of a spam SMS:\n",
        "my_file = open(file_directory, \"r\")\n",
        "\n",
        "for i in my_file:\n",
        "  if i[0:4]=='spam':\n",
        "    print(i)\n",
        "    break\n",
        "\n",
        "my_file.close()"
      ],
      "execution_count": null,
      "outputs": [
        {
          "output_type": "stream",
          "text": [
            "spam\tFree entry in 2 a wkly comp to win FA Cup final tkts 21st May 2005. Text FA to 87121 to receive entry question(std txt rate)T&C's apply 08452810075over18's\n",
            "\n"
          ],
          "name": "stdout"
        }
      ]
    },
    {
      "cell_type": "markdown",
      "metadata": {
        "id": "Fb4SUoIZ8ziL"
      },
      "source": [
        "**Answer:**\n",
        "\n",
        "Label value of a spam SMS: \"spam\"\n",
        "\n",
        "Label value of a non-spam SMS: \"ham\""
      ]
    },
    {
      "cell_type": "markdown",
      "metadata": {
        "id": "AukA6vMVa90d"
      },
      "source": [
        "### Part (b)\n",
        "\n",
        "How many spam messages are there in the data set?\n",
        "How many non-spam messages are there in the data set?\n"
      ]
    },
    {
      "cell_type": "code",
      "metadata": {
        "id": "CX_gaPyg8XNA",
        "colab": {
          "base_uri": "https://localhost:8080/",
          "height": 51
        },
        "outputId": "e0dba91f-eea5-4c8d-9c76-82a90fa12d83"
      },
      "source": [
        "my_file = open(file_directory, \"r\")\n",
        "count_1=0\n",
        "for i in my_file:\n",
        "  if i[0:3]=='ham':\n",
        "    count_1+=1\n",
        "print('# of non-spam SMS: ',count_1)\n",
        "my_file.close()\n",
        "\n",
        "my_file = open(file_directory, \"r\")\n",
        "count_2=0\n",
        "for i in my_file:\n",
        "  if i[0:4]=='spam':\n",
        "    count_2+=1\n",
        "print('# of spam SMS: ',count_2)\n",
        "\n",
        "\n",
        "my_file.close()"
      ],
      "execution_count": null,
      "outputs": [
        {
          "output_type": "stream",
          "text": [
            "# of non-spam SMS:  4827\n",
            "# of spam SMS:  747\n"
          ],
          "name": "stdout"
        }
      ]
    },
    {
      "cell_type": "markdown",
      "metadata": {
        "id": "d1WXxVt6a90h"
      },
      "source": [
        "### Part (c)\n",
        "\n",
        "We will be using the package `torchtext` to load, process, and batch the data.\n",
        "A tutorial to torchtext is available below.\n",
        "\n",
        "https://medium.com/@sonicboom8/sentiment-analysis-torchtext-55fb57b1fab8\n",
        "\n",
        "We will be building a **character level RNN**.\n",
        "That is, we will treat each **character** as a token in our sequence,\n",
        "rather than each **word**.\n",
        "\n",
        "Identify two advantage and two disadvantage of modelling SMS text\n",
        "messages as a sequence of characters rather than a sequence of words."
      ]
    },
    {
      "cell_type": "markdown",
      "metadata": {
        "id": "tQOfuQB3Ae4_"
      },
      "source": [
        "Advantages:\n",
        "*   Requires less storage as number of characters are limited whereas you can have thousands of words\n",
        "*   Prevents the problem of having words that are not part of the vocabulary\n",
        "\n",
        "Disadvantages:\n",
        "*   Requires bigger hidden layers\n",
        "*   Vanishing gradients\n",
        "\n",
        "\n",
        "\n"
      ]
    },
    {
      "cell_type": "markdown",
      "metadata": {
        "id": "ie_D0bv9a90k"
      },
      "source": [
        "### Part (d)\n",
        "\n",
        "We will be loading our data set using `torchtext.data.TabularDataset`. The\n",
        "constructor will read directly from the `SMSSpamCollection` file. \n",
        "\n",
        "For the data file to be read successfuly, we\n",
        "need to specify the **fields** (columns) in the file. \n",
        "In our case, the dataset has two fields: \n",
        "\n",
        "- a text field containing the sms messages,\n",
        "- a label field which will be converted into a binary label.\n",
        "\n",
        "Split the dataset into `train`, `valid`, and `test`. Use a 60-20-20 split.\n",
        "You may find this torchtext API page helpful:\n",
        "https://torchtext.readthedocs.io/en/latest/data.html#dataset\n"
      ]
    },
    {
      "cell_type": "code",
      "metadata": {
        "id": "P_Y6Puz9a90l"
      },
      "source": [
        "import torchtext\n",
        "\n",
        "text_field = torchtext.data.Field(sequential=True,      # text sequence\n",
        "                                  tokenize=lambda x: x, # because are building a character-RNN\n",
        "                                  include_lengths=True, # to track the length of sequences, for batching\n",
        "                                  batch_first=True,\n",
        "                                  use_vocab=True)       # to turn each character into an integer index\n",
        "label_field = torchtext.data.Field(sequential=False,    # not a sequence\n",
        "                                   use_vocab=False,     # don't need to track vocabulary\n",
        "                                   is_target=True,      \n",
        "                                   batch_first=True,\n",
        "                                   preprocessing=lambda x: int(x == 'spam')) # convert text to 0 and 1\n",
        "\n",
        "fields = [('label', label_field), ('sms', text_field)]\n",
        "dataset = torchtext.data.TabularDataset(file_directory,\"tsv\",fields)  # fields are separated by a tab\n",
        "\n",
        "dataset[0].sms\n",
        "dataset[0].label\n",
        "train, valid, test = dataset.split([0.6,0.2,0.2])"
      ],
      "execution_count": null,
      "outputs": []
    },
    {
      "cell_type": "markdown",
      "metadata": {
        "id": "v6nP0Ks_a90o"
      },
      "source": [
        "### Part (e)\n",
        "\n",
        "We saw in part (b) that there are many more non-spam messages than spam messages.\n",
        "This **imbalance** in our training data will be problematic for training.\n",
        "We can fix this disparity by duplicating spam messages in the training set,\n",
        "so that the training set is roughly **balanced**.\n",
        "\n",
        "Explain why having a balanced training set is helpful for training our neural network.\n"
      ]
    },
    {
      "cell_type": "code",
      "metadata": {
        "id": "FWvx9_rka90p"
      },
      "source": [
        "# save the original training examples\n",
        "old_train_examples = train.examples\n",
        "# get all the spam messages in `train`\n",
        "train_spam = []\n",
        "for item in train.examples:\n",
        "    if item.label == 1:\n",
        "        train_spam.append(item)\n",
        "# duplicate each spam message 6 more times\n",
        "train.examples = old_train_examples + train_spam * 6"
      ],
      "execution_count": null,
      "outputs": []
    },
    {
      "cell_type": "markdown",
      "metadata": {
        "id": "qZnjVd8_8l_a"
      },
      "source": [
        "**Answer:**\n",
        "Having an imbalanced dataset can be problematic as the class with more data/examples would be more likely to be predicted, just because it is what the model sees more. This creates bias in the model.\n"
      ]
    },
    {
      "cell_type": "markdown",
      "metadata": {
        "id": "j7eUmBEva90r"
      },
      "source": [
        "### Part (f)\n",
        "\n",
        "We need to build the vocabulary on the training data by running the below code.\n",
        "This finds all the possible character tokens in the training set.\n",
        "\n",
        "Explain what the variables `text_field.vocab.stoi` and `text_field.vocab.itos` represent."
      ]
    },
    {
      "cell_type": "code",
      "metadata": {
        "id": "8CQM8flKa90s",
        "colab": {
          "base_uri": "https://localhost:8080/",
          "height": 1000
        },
        "outputId": "8af40131-138c-4c11-e24d-bb73f71dee0e"
      },
      "source": [
        "text_field.build_vocab(train)\n",
        "text_field.vocab.stoi\n",
        "text_field.vocab.itos"
      ],
      "execution_count": null,
      "outputs": [
        {
          "output_type": "execute_result",
          "data": {
            "text/plain": [
              "['<unk>',\n",
              " '<pad>',\n",
              " ' ',\n",
              " 'e',\n",
              " 'o',\n",
              " 't',\n",
              " 'a',\n",
              " 'n',\n",
              " 'r',\n",
              " 'i',\n",
              " 's',\n",
              " 'l',\n",
              " 'u',\n",
              " '0',\n",
              " 'h',\n",
              " 'd',\n",
              " '.',\n",
              " 'c',\n",
              " 'm',\n",
              " 'y',\n",
              " 'w',\n",
              " 'p',\n",
              " 'g',\n",
              " '1',\n",
              " 'f',\n",
              " '2',\n",
              " 'b',\n",
              " '8',\n",
              " 'T',\n",
              " 'k',\n",
              " '5',\n",
              " 'v',\n",
              " 'E',\n",
              " 'C',\n",
              " 'S',\n",
              " 'O',\n",
              " 'I',\n",
              " '7',\n",
              " '4',\n",
              " 'x',\n",
              " '3',\n",
              " 'N',\n",
              " 'A',\n",
              " '6',\n",
              " 'R',\n",
              " '!',\n",
              " '9',\n",
              " ',',\n",
              " 'P',\n",
              " 'U',\n",
              " 'M',\n",
              " 'W',\n",
              " 'L',\n",
              " 'H',\n",
              " 'B',\n",
              " 'D',\n",
              " 'G',\n",
              " 'F',\n",
              " '/',\n",
              " 'Y',\n",
              " \"'\",\n",
              " '?',\n",
              " '£',\n",
              " '-',\n",
              " '&',\n",
              " 'X',\n",
              " ':',\n",
              " 'z',\n",
              " 'V',\n",
              " 'j',\n",
              " '*',\n",
              " 'K',\n",
              " ')',\n",
              " 'J',\n",
              " ';',\n",
              " '+',\n",
              " 'Q',\n",
              " 'q',\n",
              " '(',\n",
              " '\"',\n",
              " '#',\n",
              " '>',\n",
              " '=',\n",
              " '@',\n",
              " 'Z',\n",
              " 'ü',\n",
              " 'Ü',\n",
              " '<',\n",
              " '|',\n",
              " '%',\n",
              " '_',\n",
              " '‘',\n",
              " '$',\n",
              " '\\x92',\n",
              " '[',\n",
              " ']',\n",
              " '\\x93',\n",
              " '¡',\n",
              " '…',\n",
              " 'ú',\n",
              " '’',\n",
              " '“',\n",
              " '\\\\',\n",
              " '\\x96',\n",
              " '\\t',\n",
              " '\\n',\n",
              " '~',\n",
              " '\\x94',\n",
              " '\\x91',\n",
              " '»',\n",
              " 'ì',\n",
              " '–']"
            ]
          },
          "metadata": {
            "tags": []
          },
          "execution_count": 9
        }
      ]
    },
    {
      "cell_type": "markdown",
      "metadata": {
        "id": "W_UWDCw0_b93"
      },
      "source": [
        "**Answer:**\n",
        "\n",
        "text_field.vocab.stoi maps each string to its index. \n",
        "\n",
        "text_field.vocab.itos does the opposite: it maps each index to its string."
      ]
    },
    {
      "cell_type": "markdown",
      "metadata": {
        "id": "TC8WVE8Ua90u"
      },
      "source": [
        "### Part (g)\n",
        "\n",
        "The tokens `<unk>` and `<pad>` were not in our SMS text messages.\n",
        "What do these two values represent?"
      ]
    },
    {
      "cell_type": "markdown",
      "metadata": {
        "id": "oznbFfX4DPhw"
      },
      "source": [
        "**Answer:**\n",
        "`<unk>` stands for unknown token, and it is used to replace unknown vocabulary. `<pad>` is basically \"padding,\" as it would modify the length of the token to match the batch sizes that the GPU/CPU could process.\n",
        "\n"
      ]
    },
    {
      "cell_type": "markdown",
      "metadata": {
        "id": "Ff5CNk7Qa90y"
      },
      "source": [
        "### Part (h)\n",
        "\n",
        "Since text sequences are of variable length, `torchtext` provides a `BucketIterator` data loader,\n",
        "which batches similar length sequences together. The iterator also provides functionalities to\n",
        "pad sequences automatically.\n",
        "\n",
        "Take a look at 10 batches in `train_iter`. What is the maximum length of the\n",
        "input sequence in each batch? How many `<pad>` tokens are used in each of the 10\n",
        "batches?"
      ]
    },
    {
      "cell_type": "code",
      "metadata": {
        "id": "_-IHYC_8giQi"
      },
      "source": [
        "train_iter = torchtext.data.BucketIterator(train,\n",
        "                                           batch_size=32,\n",
        "                                           sort_key=lambda x: len(x.sms), # to minimize padding\n",
        "                                           sort_within_batch=True,        # sort within each batch\n",
        "                                           repeat=False)                  # repeat the iterator for many epochs"
      ],
      "execution_count": null,
      "outputs": []
    },
    {
      "cell_type": "code",
      "metadata": {
        "id": "9x_FNBLY4TK2",
        "colab": {
          "base_uri": "https://localhost:8080/",
          "height": 357
        },
        "outputId": "a8186459-de11-4a12-ca55-e93fecb2ae82"
      },
      "source": [
        "count=0\n",
        "for batch in train_iter:\n",
        "  num=0\n",
        "  for i in range(32):\n",
        "    x=batch.sms[0][i]\n",
        "    num=(x==1).sum(dim=0)\n",
        "    num+=1\n",
        "\n",
        "  print('Max length in this batch: ',max(batch.sms[1]))\n",
        "  print('# padding tokens: ',num)\n",
        "  count+=1\n",
        "  if count==10:\n",
        "    break"
      ],
      "execution_count": null,
      "outputs": [
        {
          "output_type": "stream",
          "text": [
            "Max length in this batch:  tensor(161)\n",
            "# padding tokens:  tensor(2)\n",
            "Max length in this batch:  tensor(121)\n",
            "# padding tokens:  tensor(3)\n",
            "Max length in this batch:  tensor(23)\n",
            "# padding tokens:  tensor(2)\n",
            "Max length in this batch:  tensor(101)\n",
            "# padding tokens:  tensor(4)\n",
            "Max length in this batch:  tensor(57)\n",
            "# padding tokens:  tensor(4)\n",
            "Max length in this batch:  tensor(72)\n",
            "# padding tokens:  tensor(3)\n",
            "Max length in this batch:  tensor(31)\n",
            "# padding tokens:  tensor(2)\n",
            "Max length in this batch:  tensor(54)\n",
            "# padding tokens:  tensor(3)\n",
            "Max length in this batch:  tensor(135)\n",
            "# padding tokens:  tensor(2)\n",
            "Max length in this batch:  tensor(162)\n",
            "# padding tokens:  tensor(2)\n"
          ],
          "name": "stdout"
        }
      ]
    },
    {
      "cell_type": "markdown",
      "metadata": {
        "id": "y7HnqP6_a904"
      },
      "source": [
        "## Part 2. Model Building\n",
        "\n",
        "Build a recurrent neural network model, using an architecture of your choosing. \n",
        "Use the one-hot embedding of each character as input to your recurrent network.\n",
        "Use one or more fully-connected layers to make the prediction based on your\n",
        "recurrent network output.\n",
        "\n",
        "Instead of using the RNN output value for the final token, another often used\n",
        "strategy is to max-pool over the entire output array. That is, instead of calling\n",
        "something like:\n",
        "\n",
        "```\n",
        "out, _ = self.rnn(x)\n",
        "self.fc(out[:, -1, :])\n",
        "```\n",
        "\n",
        "where `self.rnn` is an `nn.RNN`, `nn.GRU`, or `nn.LSTM` module, and `self.fc` is a \n",
        "fully-connected \n",
        "layer, we use:\n",
        "\n",
        "```\n",
        "out, _ = self.rnn(x)\n",
        "self.fc(torch.max(out, dim=1)[0])\n",
        "```\n",
        "\n",
        "This works reasonably in practice. An even better alternative is to concatenate the\n",
        "max-pooling and average-pooling of the RNN outputs:\n",
        "\n",
        "```\n",
        "out, _ = self.rnn(x)\n",
        "out = torch.cat([torch.max(out, dim=1)[0], \n",
        "                 torch.mean(out, dim=1)], dim=1)\n",
        "self.fc(out)\n",
        "```\n"
      ]
    },
    {
      "cell_type": "code",
      "metadata": {
        "id": "jHl1p_Wwa905",
        "colab": {
          "base_uri": "https://localhost:8080/",
          "height": 136
        },
        "outputId": "a00d1cfb-2ea3-48a7-d158-e51ce0c96a87"
      },
      "source": [
        "# You might find this code helpful for obtaining\n",
        "# PyTorch one-hot vectors.\n",
        "\n",
        "ident = torch.eye(10)\n",
        "print(ident[0]) # one-hot vector\n",
        "print(ident[1]) # one-hot vector\n",
        "x = torch.tensor([[1, 2], [3, 4]])\n",
        "print(ident[x]) # one-hot vectors"
      ],
      "execution_count": null,
      "outputs": [
        {
          "output_type": "stream",
          "text": [
            "tensor([1., 0., 0., 0., 0., 0., 0., 0., 0., 0.])\n",
            "tensor([0., 1., 0., 0., 0., 0., 0., 0., 0., 0.])\n",
            "tensor([[[0., 1., 0., 0., 0., 0., 0., 0., 0., 0.],\n",
            "         [0., 0., 1., 0., 0., 0., 0., 0., 0., 0.]],\n",
            "\n",
            "        [[0., 0., 0., 1., 0., 0., 0., 0., 0., 0.],\n",
            "         [0., 0., 0., 0., 1., 0., 0., 0., 0., 0.]]])\n"
          ],
          "name": "stdout"
        }
      ]
    },
    {
      "cell_type": "code",
      "metadata": {
        "id": "4LTQ7zFka909"
      },
      "source": [
        "# RNN Architecture\n",
        "class SpamRNN(nn.Module):\n",
        "\n",
        "  def __init__(self, input_size, hidden_size, num_classes):\n",
        "    super(SpamRNN, self).__init__()\n",
        "    self.ident = torch.eye(input_size)\n",
        "    self.hidden_size = hidden_size\n",
        "    self.num_classes = num_classes\n",
        "    self.rnn = nn.RNN(input_size, hidden_size, num_classes, batch_first=True)\n",
        "    self.fc = nn.Linear(hidden_size, num_classes)\n",
        "\n",
        "  def forward(self, x):\n",
        "    # Look up the embedding\n",
        "    x = self.ident[x]\n",
        "    # Set an initial hidden state\n",
        "    h0 = torch.zeros(self.num_classes, x.size(0), self.hidden_size)\n",
        "    # Forward propagate the RNN\n",
        "    out, _ = self.rnn(x, h0)\n",
        "    # Pass the output of the last time step to the classifier\n",
        "    output = self.fc(torch.max(out, dim=1)[0])  \n",
        "    return output"
      ],
      "execution_count": null,
      "outputs": []
    },
    {
      "cell_type": "markdown",
      "metadata": {
        "id": "vKIYPl_Ba90_"
      },
      "source": [
        "## Part 3. Training\n",
        "\n",
        "### Part (a)\n",
        "\n",
        "Complete the `get_accuracy` function, which will compute the\n",
        "accuracy (rate) of your model across a dataset (e.g. validation set).\n",
        "You may modify `torchtext.data.BucketIterator` to make your computation\n",
        "faster."
      ]
    },
    {
      "cell_type": "code",
      "metadata": {
        "id": "UT-NK4BkguFQ"
      },
      "source": [
        "def get_accuracy(model, data):\n",
        "    \"\"\" Compute the accuracy of the `model` across a dataset `data`\n",
        "    \n",
        "    Example usage:\n",
        "    \n",
        "    >>> model = MyRNN() # to be defined\n",
        "    >>> get_accuracy(model, valid) # the variable `valid` is from above\n",
        "    \"\"\"\n",
        "\n",
        "    data_iter = torchtext.data.BucketIterator(data,\n",
        "                              batch_size=30,\n",
        "                              sort_key=lambda x: len(x.sms), # to minimize padding\n",
        "                              sort_within_batch=True, # sort within each batch\n",
        "                              repeat=False) # repeat the iterator for many epochs\n",
        "    correct, total = 0, 0\n",
        "    for batch in data_iter:\n",
        "      output = model(batch.sms[0])\n",
        "      pred = output.max(1, keepdim=True)[1]\n",
        "      correct += pred.eq(batch.label.view_as(pred)).sum().item()\n",
        "      total += batch.sms[1].shape[0]\n",
        "    return correct / total\n"
      ],
      "execution_count": null,
      "outputs": []
    },
    {
      "cell_type": "markdown",
      "metadata": {
        "id": "TlxlcAC1a91C"
      },
      "source": [
        "### Part (b)\n",
        "\n",
        "Train the model. Plot the training curve of your final model. \n",
        "Your training curve should have the training/validation loss and\n",
        "accuracy plotted periodically.\n",
        "\n",
        "Note: Not all of your batches will have the same batch size.\n",
        "In particular, if your training set does not divide evenly by\n",
        "your batch size, there will be a batch that is smaller than\n",
        "the rest. "
      ]
    },
    {
      "cell_type": "code",
      "metadata": {
        "id": "CVtf7CJCa91D"
      },
      "source": [
        "def train_rnn_network(model, train, valid, batch_size=32, num_epochs=30, learning_rate=1e-5):\n",
        "  criterion = nn.CrossEntropyLoss()\n",
        "  optimizer = torch.optim.Adam(model.parameters(), lr=learning_rate)\n",
        "  losses, train_acc, valid_acc = [], [], []\n",
        "  epochs = []\n",
        "\n",
        "  train_loader = torchtext.data.BucketIterator(train,\n",
        "                          batch_size=batch_size,\n",
        "                          sort_key=lambda x: len(x.sms), # to minimize padding\n",
        "                          sort_within_batch=True, # sort within each batch\n",
        "                          repeat=False) # repeat the iterator for many epochs\n",
        "\n",
        "  valid_loader = torchtext.data.BucketIterator(valid,\n",
        "                          batch_size=batch_size,\n",
        "                          sort_key=lambda x: len(x.sms), # to minimize padding\n",
        "                          sort_within_batch=True, # sort within each batch\n",
        "                          repeat=False) # repeat the iterator for many epochs\n",
        "\n",
        "  for epoch in range(num_epochs):\n",
        "    for batch in train_loader:\n",
        "      optimizer.zero_grad()\n",
        "      pred = model(batch.sms[0])\n",
        "      loss = criterion(pred, batch.label)\n",
        "      loss.backward()\n",
        "      optimizer.step()\n",
        "\n",
        "    losses.append(float(loss))\n",
        "    epochs.append(epoch)\n",
        "    train_acc.append(get_accuracy(model, train))\n",
        "    valid_acc.append(get_accuracy(model, valid))\n",
        "\n",
        "    print(\"epoch: \", epoch, end = \" \")\n",
        "    print(\"train acc: \", train_acc[-1], end = \" \")\n",
        "    print(\"val acc: \", valid_acc[-1])\n",
        "\n",
        "  #plotting\n",
        "  plt.title(\"Training Curve\")\n",
        "  plt.plot(losses, label=\"Train\")\n",
        "  plt.xlabel(\"Epoch\")\n",
        "  plt.ylabel(\"Loss\")\n",
        "  plt.show()\n",
        "\n",
        "  plt.title(\"Training Curve\")\n",
        "  plt.plot(epochs, train_acc, label=\"Train\")\n",
        "  plt.plot(epochs, valid_acc, label=\"Validation\")\n",
        "  plt.xlabel(\"Epoch\")\n",
        "  plt.ylabel(\"Accuracy\")\n",
        "  plt.legend(loc='best')\n",
        "  plt.show()\n"
      ],
      "execution_count": null,
      "outputs": []
    },
    {
      "cell_type": "code",
      "metadata": {
        "id": "Ody4_-TAxxrj"
      },
      "source": [
        "#below is not my FINAL modeL, my final model is shown in part 3c after explaining how I tuned the hyperparameters."
      ],
      "execution_count": null,
      "outputs": []
    },
    {
      "cell_type": "code",
      "metadata": {
        "id": "Da_xReyDedUa",
        "colab": {
          "base_uri": "https://localhost:8080/",
          "height": 913
        },
        "outputId": "223bca1a-0e65-4051-bd6d-5b5733dc5469"
      },
      "source": [
        "model_1 = SpamRNN(input_size=len(text_field.vocab), hidden_size=20, num_classes=2)\n",
        "train_rnn_network(model_1, train, valid, batch_size=32, num_epochs=20, learning_rate=1e-4)"
      ],
      "execution_count": null,
      "outputs": [
        {
          "output_type": "stream",
          "text": [
            "epoch:  0 train acc:  0.6460757004751762 val acc:  0.36591928251121075\n",
            "epoch:  1 train acc:  0.5641487792888743 val acc:  0.19103139013452916\n",
            "epoch:  2 train acc:  0.5713583483532689 val acc:  0.20807174887892377\n",
            "epoch:  3 train acc:  0.7438964443716205 val acc:  0.5165919282511211\n",
            "epoch:  4 train acc:  0.871866295264624 val acc:  0.7784753363228699\n",
            "epoch:  5 train acc:  0.9380632475831558 val acc:  0.9040358744394619\n",
            "epoch:  6 train acc:  0.9523185318695724 val acc:  0.9443946188340807\n",
            "epoch:  7 train acc:  0.9490414550221202 val acc:  0.9551569506726457\n",
            "epoch:  8 train acc:  0.9547763395051614 val acc:  0.9533632286995516\n",
            "epoch:  9 train acc:  0.9590365394068491 val acc:  0.9551569506726457\n",
            "epoch:  10 train acc:  0.9536293626085531 val acc:  0.9614349775784753\n",
            "epoch:  11 train acc:  0.9628051777814189 val acc:  0.9524663677130045\n",
            "epoch:  12 train acc:  0.9600196624610847 val acc:  0.9614349775784753\n",
            "epoch:  13 train acc:  0.9564148779288875 val acc:  0.9641255605381166\n",
            "epoch:  14 train acc:  0.9647714238898902 val acc:  0.9632286995515695\n",
            "epoch:  15 train acc:  0.9664099623136162 val acc:  0.95695067264574\n",
            "epoch:  16 train acc:  0.9646075700475176 val acc:  0.9623318385650225\n",
            "epoch:  17 train acc:  0.964443716205145 val acc:  0.9560538116591928\n",
            "epoch:  18 train acc:  0.9634605931509094 val acc:  0.9533632286995516\n",
            "epoch:  19 train acc:  0.9667376699983614 val acc:  0.9596412556053812\n"
          ],
          "name": "stdout"
        },
        {
          "output_type": "display_data",
          "data": {
            "image/png": "[encoded data removed]",
            "text/plain": [
              "<Figure size 432x288 with 1 Axes>"
            ]
          },
          "metadata": {
            "tags": [],
            "needs_background": "light"
          }
        },
        {
          "output_type": "display_data",
          "data": {
            "image/png": "[encoded data removed]",
            "text/plain": [
              "<Figure size 432x288 with 1 Axes>"
            ]
          },
          "metadata": {
            "tags": [],
            "needs_background": "light"
          }
        }
      ]
    },
    {
      "cell_type": "markdown",
      "metadata": {
        "id": "BEkILattoHkR"
      },
      "source": [
        "### Part (c)\n",
        "\n",
        "Choose at least 4 hyperparameters to tune. Explain how you tuned the hyperparameters.\n",
        "You don't need to include your training curve for every model you trained.\n",
        "Instead, explain what hyperparemters you tuned, what the best validation accuracy was,\n",
        "and the reasoning behind the hyperparameter decisions you made.\n",
        "\n",
        "For this assignment, you should tune more than just your learning rate and epoch. \n",
        "Choose at least 2 hyperparameters that are unrelated to the optimizer."
      ]
    },
    {
      "cell_type": "markdown",
      "metadata": {
        "id": "sYMuIdemk57P"
      },
      "source": [
        "**Answer:**\n",
        "I tried a batch size of 36, number of epochs to 20, learning rate to 1e-3, and hidden size to 20. However, this led to underfitting and a lot of noise in the graphs.\n",
        "\n",
        "To fix that, I reduced the batch size to 30, and increased the learning rate to 1e-4. This led to a higher number of iterations, allowing the model's weights to get updated more.\n",
        "\n",
        "To further increase the validation accuracy, I increased the hidden size to 30. This gave the model more depth/complexity.\n",
        "\n",
        "Then, I kept all the hyperparameters constant except for one: I tried concatenating the max pooling and average pooling of the RNN outputs. Basically, I used the third provided output from the \"Model Building\" section. In my scenario, the original output from the sample code (or the second provided output from the \"Model Building\" section) worked better. \n",
        "\n",
        "Batch_size=30, num_epochs=20, learning_rate=1e-4, hidden_size=30, model output to the second provided one from \"Part 2: Model Building.\"\n",
        "\n",
        "Train accuracy: 98.6%  \n",
        "Validation accuracy: 97.8%\n"
      ]
    },
    {
      "cell_type": "code",
      "metadata": {
        "id": "CH0uaXF5xsZt"
      },
      "source": [
        "#this is my FINAL model"
      ],
      "execution_count": null,
      "outputs": []
    },
    {
      "cell_type": "code",
      "metadata": {
        "id": "_L7fJ3E6f-kn",
        "colab": {
          "base_uri": "https://localhost:8080/",
          "height": 913
        },
        "outputId": "77d81726-1439-4669-92ac-14d5b54f7462"
      },
      "source": [
        "model_1 = SpamRNN(input_size=len(text_field.vocab), hidden_size=30, num_classes=2)\n",
        "train_rnn_network(model_1, train, valid, batch_size=30, num_epochs=20, learning_rate=1e-4)"
      ],
      "execution_count": null,
      "outputs": [
        {
          "output_type": "stream",
          "text": [
            "epoch:  0 train acc:  0.5276093724397837 val acc:  0.12286995515695068\n",
            "epoch:  1 train acc:  0.5276093724397837 val acc:  0.12286995515695068\n",
            "epoch:  2 train acc:  0.5521874487956743 val acc:  0.18565022421524663\n",
            "epoch:  3 train acc:  0.864820580042602 val acc:  0.747982062780269\n",
            "epoch:  4 train acc:  0.9315090938882516 val acc:  0.9147982062780269\n",
            "epoch:  5 train acc:  0.9298705554645257 val acc:  0.9560538116591928\n",
            "epoch:  6 train acc:  0.9431427166967066 val acc:  0.9560538116591928\n",
            "epoch:  7 train acc:  0.9362608553170572 val acc:  0.97847533632287\n",
            "epoch:  8 train acc:  0.9554317548746518 val acc:  0.9695067264573991\n",
            "epoch:  9 train acc:  0.9592003932492217 val acc:  0.968609865470852\n",
            "epoch:  10 train acc:  0.9700147468458136 val acc:  0.9668161434977578\n",
            "epoch:  11 train acc:  0.9713255775847943 val acc:  0.9650224215246637\n",
            "epoch:  12 train acc:  0.9646075700475176 val acc:  0.9748878923766816\n",
            "epoch:  13 train acc:  0.9757496313288546 val acc:  0.9730941704035875\n",
            "epoch:  14 train acc:  0.9767327543830903 val acc:  0.9757847533632287\n",
            "epoch:  15 train acc:  0.9786990004915616 val acc:  0.9775784753363229\n",
            "epoch:  16 train acc:  0.9816483696542684 val acc:  0.9766816143497757\n",
            "epoch:  17 train acc:  0.9813206619695232 val acc:  0.9811659192825112\n",
            "epoch:  18 train acc:  0.9839423234474849 val acc:  0.97847533632287\n",
            "epoch:  19 train acc:  0.9845977388169752 val acc:  0.9775784753363229\n"
          ],
          "name": "stdout"
        },
        {
          "output_type": "display_data",
          "data": {
            "image/png": "[encoded data removed]",
            "text/plain": [
              "<Figure size 432x288 with 1 Axes>"
            ]
          },
          "metadata": {
            "tags": [],
            "needs_background": "light"
          }
        },
        {
          "output_type": "display_data",
          "data": {
            "image/png": "[encoded data removed]",
            "text/plain": [
              "<Figure size 432x288 with 1 Axes>"
            ]
          },
          "metadata": {
            "tags": [],
            "needs_background": "light"
          }
        }
      ]
    },
    {
      "cell_type": "markdown",
      "metadata": {
        "id": "v7DY56rKa91I"
      },
      "source": [
        "### Part (d)\n",
        "\n",
        "Before we deploy a machine learning model, we usually want to have a better understanding\n",
        "of how our model performs beyond its validation accuracy. An important metric to track is\n",
        "*how well our model performs in certain subsets of the data*.\n",
        "\n",
        "In particular, what is the model's error rate amongst data with negative labels?\n",
        "This is called the **false positive rate**.\n",
        "\n",
        "What about the model's error rate amongst data with positive labels?\n",
        "This is called the **false negative rate**.\n",
        "\n",
        "Report your final model's false positive and false negative rate across the\n",
        "validation set."
      ]
    },
    {
      "cell_type": "code",
      "metadata": {
        "id": "7ggbQSdba91J"
      },
      "source": [
        "# Create a Dataset of only spam validation examples\n",
        "valid_spam = torchtext.data.Dataset(\n",
        "    [e for e in valid.examples if e.label == 1],\n",
        "    valid.fields)\n",
        "# Create a Dataset of only non-spam validation examples\n",
        "valid_nospam = torchtext.data.Dataset(\n",
        "    [e for e in valid.examples if e.label == 0],\n",
        "    valid.fields)"
      ],
      "execution_count": null,
      "outputs": []
    },
    {
      "cell_type": "code",
      "metadata": {
        "id": "PFvNsiVPu74C"
      },
      "source": [
        "def get_accuracy_2(model, data):\n",
        "    \"\"\" Compute the accuracy of the `model` across a dataset `data`\n",
        "    \n",
        "    Example usage:\n",
        "    \n",
        "    >>> model = MyRNN() # to be defined\n",
        "    >>> get_accuracy(model, valid) # the variable `valid` is from above\n",
        "    \"\"\"\n",
        "\n",
        "    data_iter = torchtext.data.BucketIterator(data,\n",
        "                              batch_size=30,\n",
        "                              sort_key=lambda x: len(x.sms), # to minimize padding\n",
        "                              sort_within_batch=True, # sort within each batch\n",
        "                              repeat=False) # repeat the iterator for many epochs\n",
        "    correct, total = 0, 0\n",
        "    for batch in data_iter:\n",
        "      output = model(batch.sms[0])\n",
        "      pred = output.max(1, keepdim=True)[1]\n",
        "      correct += pred.eq(batch.label.view_as(pred)).sum().item()\n",
        "      total += batch.sms[1].shape[0]\n",
        "    #Ex for valid_spam: return the number of instances where a non-spam email was \n",
        "    #incorrectly labelled as spam (variable: incorrect) divided by the total number of spam \n",
        "    #emails\n",
        "    incorrect=total-correct\n",
        "    return incorrect/total*100\n"
      ],
      "execution_count": null,
      "outputs": []
    },
    {
      "cell_type": "code",
      "metadata": {
        "id": "tkvfZrHAuJp8"
      },
      "source": [
        "#false positive rate"
      ],
      "execution_count": null,
      "outputs": []
    },
    {
      "cell_type": "code",
      "metadata": {
        "id": "-4lhJWsNPWcm",
        "colab": {
          "base_uri": "https://localhost:8080/",
          "height": 34
        },
        "outputId": "1a605a08-da8a-4410-9f7f-a4b31469764c"
      },
      "source": [
        "model_1 = SpamRNN(input_size=len(text_field.vocab), hidden_size=30, num_classes=2)\n",
        "get_accuracy_2(model_1,valid_spam)"
      ],
      "execution_count": null,
      "outputs": [
        {
          "output_type": "execute_result",
          "data": {
            "text/plain": [
              "13.636363636363635"
            ]
          },
          "metadata": {
            "tags": []
          },
          "execution_count": 87
        }
      ]
    },
    {
      "cell_type": "code",
      "metadata": {
        "id": "uxyZABw3vFcR"
      },
      "source": [
        "#false negative rate"
      ],
      "execution_count": null,
      "outputs": []
    },
    {
      "cell_type": "code",
      "metadata": {
        "id": "4St3-q6pP3cu",
        "colab": {
          "base_uri": "https://localhost:8080/",
          "height": 34
        },
        "outputId": "b4583a36-3cdb-41d4-e790-aa4516e24b95"
      },
      "source": [
        "model_1 = SpamRNN(input_size=len(text_field.vocab), hidden_size=30, num_classes=2)\n",
        "get_accuracy_2(model_1,valid_nospam)"
      ],
      "execution_count": null,
      "outputs": [
        {
          "output_type": "execute_result",
          "data": {
            "text/plain": [
              "5.188199389623601"
            ]
          },
          "metadata": {
            "tags": []
          },
          "execution_count": 101
        }
      ]
    },
    {
      "cell_type": "markdown",
      "metadata": {
        "id": "N1iRteb3a91O"
      },
      "source": [
        "### Part (e)\n",
        "\n",
        "The impact of a false positive vs a false negative can be drastically different.\n",
        "If our spam detection algorithm was deployed on your phone, what is the impact\n",
        "of a false positive on the phone's user? What is the impact of a false negative?"
      ]
    },
    {
      "cell_type": "markdown",
      "metadata": {
        "id": "VqMniOUqtfko"
      },
      "source": [
        "**Answer:**\n",
        "A false positive can potentially lead to an important email/SMS being classified as spam, hence being moved to the junk folder or directly getting deleted. The user may miss some important information by not checking his/her junk folder.\n",
        "\n",
        "A false negative email/SMS could end up in a user's inbox. One impact of this is that it is just annoying to receive and see spam email/SMS. Another more serious impact is that the user may not think the email/SMS is spam, and may go on to click the links, get scammed, etc."
      ]
    },
    {
      "cell_type": "markdown",
      "metadata": {
        "id": "Gznefulsa91V"
      },
      "source": [
        "## Part 4. Evaluation\n",
        "\n",
        "### Part (a)\n",
        "\n",
        "Report the final test accuracy of your model."
      ]
    },
    {
      "cell_type": "markdown",
      "metadata": {
        "id": "qdoDyhj0wfMK"
      },
      "source": [
        "**Answer:**\n",
        "The test accuracy, as shown below, is 96%."
      ]
    },
    {
      "cell_type": "code",
      "metadata": {
        "id": "D5L5D-A1a91W",
        "colab": {
          "base_uri": "https://localhost:8080/",
          "height": 930
        },
        "outputId": "c53a2592-5222-48e2-ce50-42fecbc3c6e3"
      },
      "source": [
        "model_1 = SpamRNN(input_size=len(text_field.vocab), hidden_size=30, num_classes=2)\n",
        "train_rnn_network(model_1, train, valid, batch_size=30, num_epochs=20, learning_rate=1e-4)\n",
        "get_accuracy(model_1,test)"
      ],
      "execution_count": null,
      "outputs": [
        {
          "output_type": "stream",
          "text": [
            "epoch:  0 train acc:  0.5276093724397837 val acc:  0.12286995515695068\n",
            "epoch:  1 train acc:  0.5279370801245289 val acc:  0.12286995515695068\n",
            "epoch:  2 train acc:  0.844994265115517 val acc:  0.7040358744394619\n",
            "epoch:  3 train acc:  0.9447812551204325 val acc:  0.915695067264574\n",
            "epoch:  4 train acc:  0.945436670489923 val acc:  0.9219730941704036\n",
            "epoch:  5 train acc:  0.9349500245780764 val acc:  0.9515695067264573\n",
            "epoch:  6 train acc:  0.9480583319678847 val acc:  0.9542600896860987\n",
            "epoch:  7 train acc:  0.9333114861543503 val acc:  0.95695067264574\n",
            "epoch:  8 train acc:  0.9596919547763395 val acc:  0.9434977578475336\n",
            "epoch:  9 train acc:  0.9623136162543011 val acc:  0.947085201793722\n",
            "epoch:  10 train acc:  0.9546124856627888 val acc:  0.9219730941704036\n",
            "epoch:  11 train acc:  0.9641160085203998 val acc:  0.9381165919282511\n",
            "epoch:  12 train acc:  0.9434704243814518 val acc:  0.9659192825112107\n",
            "epoch:  13 train acc:  0.9673930853678518 val acc:  0.9542600896860987\n",
            "epoch:  14 train acc:  0.9652629854170081 val acc:  0.957847533632287\n",
            "epoch:  15 train acc:  0.9678846468949697 val acc:  0.957847533632287\n",
            "epoch:  16 train acc:  0.9678846468949697 val acc:  0.9515695067264573\n",
            "epoch:  17 train acc:  0.9695231853186957 val acc:  0.9497757847533632\n",
            "epoch:  18 train acc:  0.9718171391119121 val acc:  0.9533632286995516\n",
            "epoch:  19 train acc:  0.9729641160085204 val acc:  0.9587443946188341\n"
          ],
          "name": "stdout"
        },
        {
          "output_type": "display_data",
          "data": {
            "image/png": "[encoded data removed]",
            "text/plain": [
              "<Figure size 432x288 with 1 Axes>"
            ]
          },
          "metadata": {
            "tags": [],
            "needs_background": "light"
          }
        },
        {
          "output_type": "display_data",
          "data": {
            "image/png": "[encoded data removed]",
            "text/plain": [
              "<Figure size 432x288 with 1 Axes>"
            ]
          },
          "metadata": {
            "tags": [],
            "needs_background": "light"
          }
        },
        {
          "output_type": "execute_result",
          "data": {
            "text/plain": [
              "0.9622980251346499"
            ]
          },
          "metadata": {
            "tags": []
          },
          "execution_count": 61
        }
      ]
    },
    {
      "cell_type": "markdown",
      "metadata": {
        "id": "6Hjmd8rca91Y"
      },
      "source": [
        "### Part (b)\n",
        "\n",
        "Report the false positive rate and false negative rate of your model across the test set."
      ]
    },
    {
      "cell_type": "code",
      "metadata": {
        "id": "kLVI6PcoxGGu"
      },
      "source": [
        "#false positive rate below: 4.219%"
      ],
      "execution_count": null,
      "outputs": []
    },
    {
      "cell_type": "code",
      "metadata": {
        "id": "0M7hocZJQO9k",
        "colab": {
          "base_uri": "https://localhost:8080/",
          "height": 930
        },
        "outputId": "adc326d1-9352-4523-d92c-3fe3d63b78dd"
      },
      "source": [
        "model_1 = SpamRNN(input_size=len(text_field.vocab), hidden_size=30, num_classes=2)\n",
        "train_rnn_network(model_1, train, valid_spam, batch_size=30, num_epochs=20, learning_rate=1e-4)\n",
        "get_accuracy_2(model_1,test)"
      ],
      "execution_count": null,
      "outputs": [
        {
          "output_type": "stream",
          "text": [
            "epoch:  0 train acc:  0.5381144238517325 val acc:  1.0\n",
            "epoch:  1 train acc:  0.5896857373086221 val acc:  1.0\n",
            "epoch:  2 train acc:  0.9452054794520548 val acc:  0.9621212121212122\n",
            "epoch:  3 train acc:  0.9439161966156325 val acc:  0.9318181818181818\n",
            "epoch:  4 train acc:  0.9481063658340049 val acc:  0.946969696969697\n",
            "epoch:  5 train acc:  0.9542304593070104 val acc:  0.9393939393939394\n",
            "epoch:  6 train acc:  0.9564867042707494 val acc:  0.9318181818181818\n",
            "epoch:  7 train acc:  0.9492344883158743 val acc:  0.9242424242424242\n",
            "epoch:  8 train acc:  0.9659951651893635 val acc:  0.9696969696969697\n",
            "epoch:  9 train acc:  0.9648670427074939 val acc:  0.9393939393939394\n",
            "epoch:  10 train acc:  0.9572925060435133 val acc:  0.9242424242424242\n",
            "epoch:  11 train acc:  0.9656728444802578 val acc:  0.9242424242424242\n",
            "epoch:  12 train acc:  0.9448831587429493 val acc:  0.9090909090909091\n",
            "epoch:  13 train acc:  0.9734085414987913 val acc:  0.9393939393939394\n",
            "epoch:  14 train acc:  0.972119258662369 val acc:  0.9621212121212122\n",
            "epoch:  15 train acc:  0.9775987107171635 val acc:  0.9393939393939394\n",
            "epoch:  16 train acc:  0.9738920225624497 val acc:  0.946969696969697\n",
            "epoch:  17 train acc:  0.9742143432715552 val acc:  0.9242424242424242\n",
            "epoch:  18 train acc:  0.9798549556809025 val acc:  0.9393939393939394\n",
            "epoch:  19 train acc:  0.9813053988718775 val acc:  0.946969696969697\n"
          ],
          "name": "stdout"
        },
        {
          "output_type": "display_data",
          "data": {
            "image/png": "[encoded data removed]",
            "text/plain": [
              "<Figure size 432x288 with 1 Axes>"
            ]
          },
          "metadata": {
            "tags": [],
            "needs_background": "light"
          }
        },
        {
          "output_type": "display_data",
          "data": {
            "image/png": "[encoded data removed]",
            "text/plain": [
              "<Figure size 432x288 with 1 Axes>"
            ]
          },
          "metadata": {
            "tags": [],
            "needs_background": "light"
          }
        },
        {
          "output_type": "execute_result",
          "data": {
            "text/plain": [
              "4.21903052064632"
            ]
          },
          "metadata": {
            "tags": []
          },
          "execution_count": 102
        }
      ]
    },
    {
      "cell_type": "code",
      "metadata": {
        "id": "qe4OM1fFvswS"
      },
      "source": [
        "#false negative rate below: 4.578%"
      ],
      "execution_count": null,
      "outputs": []
    },
    {
      "cell_type": "code",
      "metadata": {
        "id": "RVVJhoi4R_t4",
        "colab": {
          "base_uri": "https://localhost:8080/",
          "height": 930
        },
        "outputId": "08d0ba7d-03a4-48b0-90f1-497fca998c72"
      },
      "source": [
        "model_1 = SpamRNN(input_size=len(text_field.vocab), hidden_size=30, num_classes=2)\n",
        "train_rnn_network(model_1, train, valid_nospam, batch_size=30, num_epochs=20, learning_rate=1e-4)\n",
        "get_accuracy_2(model_1,test)"
      ],
      "execution_count": null,
      "outputs": [
        {
          "output_type": "stream",
          "text": [
            "epoch:  0 train acc:  0.5505237711522966 val acc:  0.9969481180061037\n",
            "epoch:  1 train acc:  0.8897663174858985 val acc:  0.7843336724313327\n",
            "epoch:  2 train acc:  0.9353746978243352 val acc:  0.8921668362156663\n",
            "epoch:  3 train acc:  0.9379532634971797 val acc:  0.9521871820956256\n",
            "epoch:  4 train acc:  0.9408541498791297 val acc:  0.9542217700915565\n",
            "epoch:  5 train acc:  0.9463336019339242 val acc:  0.9582909460834181\n",
            "epoch:  6 train acc:  0.9484286865431104 val acc:  0.9613428280773143\n",
            "epoch:  7 train acc:  0.9519742143432716 val acc:  0.9623601220752798\n",
            "epoch:  8 train acc:  0.9547139403706688 val acc:  0.9460834181078331\n",
            "epoch:  9 train acc:  0.9593875906526994 val acc:  0.9521871820956256\n",
            "epoch:  10 train acc:  0.9605157131345688 val acc:  0.9643947100712106\n",
            "epoch:  11 train acc:  0.9619661563255439 val acc:  0.9633774160732451\n",
            "epoch:  12 train acc:  0.9639000805801773 val acc:  0.9694811800610377\n",
            "epoch:  13 train acc:  0.9708299758259468 val acc:  0.960325534079349\n",
            "epoch:  14 train acc:  0.9705076551168412 val acc:  0.9572736520854527\n",
            "epoch:  15 train acc:  0.971474617244158 val acc:  0.9552390640895219\n",
            "epoch:  16 train acc:  0.9732473811442385 val acc:  0.9582909460834181\n",
            "epoch:  17 train acc:  0.9750201450443191 val acc:  0.9664292980671414\n",
            "epoch:  18 train acc:  0.9759871071716357 val acc:  0.9593082400813835\n",
            "epoch:  19 train acc:  0.9761482675261886 val acc:  0.9562563580874873\n"
          ],
          "name": "stdout"
        },
        {
          "output_type": "display_data",
          "data": {
            "image/png": "[encoded data removed]",
            "text/plain": [
              "<Figure size 432x288 with 1 Axes>"
            ]
          },
          "metadata": {
            "tags": [],
            "needs_background": "light"
          }
        },
        {
          "output_type": "display_data",
          "data": {
            "image/png": "[encoded data removed]",
            "text/plain": [
              "<Figure size 432x288 with 1 Axes>"
            ]
          },
          "metadata": {
            "tags": [],
            "needs_background": "light"
          }
        },
        {
          "output_type": "execute_result",
          "data": {
            "text/plain": [
              "4.578096947935368"
            ]
          },
          "metadata": {
            "tags": []
          },
          "execution_count": 104
        }
      ]
    },
    {
      "cell_type": "markdown",
      "metadata": {
        "id": "0jGHtQFpa91b"
      },
      "source": [
        "### Part (c)\n",
        "\n",
        "What is your model's prediction of the **probability** that\n",
        "the SMS message \"machine learning is sooo cool!\" is spam?\n",
        "\n",
        "Hint: To begin, use `text_field.vocab.stoi` to look up the index\n",
        "of each character in the vocabulary."
      ]
    },
    {
      "cell_type": "code",
      "metadata": {
        "id": "b3gzs8nyOIJD",
        "colab": {
          "base_uri": "https://localhost:8080/",
          "height": 34
        },
        "outputId": "687f252b-406b-4160-cde3-f884f6ab1ad0"
      },
      "source": [
        "msg = \"machine learning is sooo cool!\"\n",
        "stoi=text_field.vocab.stoi\n",
        "embed=[]\n",
        "for i in msg:\n",
        "  embed.append(stoi[i])\n",
        "\n",
        "embed=torch.tensor(embed).unsqueeze(0)\n",
        "model_1 = SpamRNN(input_size=len(text_field.vocab), hidden_size=30, num_classes=2)\n",
        "pred=model_1(embed)\n",
        "pred=torch.softmax(pred,dim=1)[0]\n",
        "pred = pred.max(0, keepdim=True)[1]\n",
        "print(pred)"
      ],
      "execution_count": null,
      "outputs": [
        {
          "output_type": "stream",
          "text": [
            "tensor([0])\n"
          ],
          "name": "stdout"
        }
      ]
    },
    {
      "cell_type": "markdown",
      "metadata": {
        "id": "C-4TxWmrNoCG"
      },
      "source": [
        "**Answer:**\n",
        "Because the output of the code above is a tensor with element 0, it means that the model predicts \"msg\" to be non-spam/ham."
      ]
    },
    {
      "cell_type": "markdown",
      "metadata": {
        "id": "QD1zgYJpa91f"
      },
      "source": [
        "### Part (d)\n",
        "\n",
        "Do you think detecting spam is an easy or difficult task?\n",
        "\n",
        "Since machine learning models are expensive to train and deploy, it is very\n",
        "important to compare our models against baseline models: a simple\n",
        "model that is easy to build and inexpensive to run that we can compare our\n",
        "recurrent neural network model against.\n",
        "\n",
        "Explain how you might build a simple baseline model. This baseline model\n",
        "can be a simple neural network (with very few weights), a hand-written algorithm,\n",
        "or any other strategy that is easy to build and test.\n",
        "\n",
        "**Do not actually build a baseline model. Instead, provide instructions on\n",
        "how to build it.**"
      ]
    },
    {
      "cell_type": "markdown",
      "metadata": {
        "id": "vqPdNxOPJVVY"
      },
      "source": [
        "The simple baseline model that I would choose would be Naive Bayes. Naive Bayes can be used to detect spam email/SMS.\n",
        "\n",
        "1. Import the dataset. From sklearn, import CountVectorizer and MultinomialNB. \n",
        "2. Split the dataset into training and testing (validation set is not necessary as there aren't any \"hyperparameters\" to tune.\n",
        "3. Use the CountVectorizer() function on the training data to count the number of times each word is used per email. \n",
        "4. Using MultinomialNB(), fit the variable from above (which has the number of times each word is used per email) with the actual labels of the emails (i.e. spam or ham). Basically, apply the MultinomialNB() method/algorithm. \n",
        "5. The model can be tested on the testing data for knowledge of its accuracy."
      ]
    }
  ]
}